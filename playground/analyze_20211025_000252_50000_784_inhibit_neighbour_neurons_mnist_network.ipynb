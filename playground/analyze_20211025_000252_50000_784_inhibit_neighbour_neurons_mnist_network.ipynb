{
 "cells": [
  {
   "cell_type": "code",
   "execution_count": 2,
   "metadata": {},
   "outputs": [
    {
     "name": "stdout",
     "output_type": "stream",
     "text": [
      "[1 5 0 2 1 0 0 0 1 0 2 0 9 0 0 9 9 2 0 3 0 9 2 1 0 9 2 9 9 2 0 2 6 0 1] 10000\n",
      "[6 3 4 3 6 6 0 1 9 0 2 2 6 7 4 7 3 4 9 9 3 7 0 9 0 8 5 5 2 4 5 0 8 4 8] 10000\n",
      "\n",
      "\n",
      "\n",
      "\n",
      "[t-SNE] Computing 121 nearest neighbors...\n",
      "[t-SNE] Indexed 10000 samples in 0.003s...\n"
     ]
    },
    {
     "name": "stderr",
     "output_type": "stream",
     "text": [
      "/Users/takashimac/Documents/Python/Meta/env/lib/python3.9/site-packages/sklearn/manifold/_t_sne.py:780: FutureWarning: The default initialization in TSNE will change from 'random' to 'pca' in 1.2.\n",
      "  warnings.warn(\n",
      "/Users/takashimac/Documents/Python/Meta/env/lib/python3.9/site-packages/sklearn/manifold/_t_sne.py:790: FutureWarning: The default learning rate in TSNE will change from 200.0 to 'auto' in 1.2.\n",
      "  warnings.warn(\n"
     ]
    },
    {
     "name": "stdout",
     "output_type": "stream",
     "text": [
      "[t-SNE] Computed neighbors for 10000 samples in 3.581s...\n",
      "[t-SNE] Computed conditional probabilities for sample 1000 / 10000\n",
      "[t-SNE] Computed conditional probabilities for sample 2000 / 10000\n",
      "[t-SNE] Computed conditional probabilities for sample 3000 / 10000\n",
      "[t-SNE] Computed conditional probabilities for sample 4000 / 10000\n",
      "[t-SNE] Computed conditional probabilities for sample 5000 / 10000\n",
      "[t-SNE] Computed conditional probabilities for sample 6000 / 10000\n",
      "[t-SNE] Computed conditional probabilities for sample 7000 / 10000\n",
      "[t-SNE] Computed conditional probabilities for sample 8000 / 10000\n",
      "[t-SNE] Computed conditional probabilities for sample 9000 / 10000\n",
      "[t-SNE] Computed conditional probabilities for sample 10000 / 10000\n",
      "[t-SNE] Mean sigma: 545.635025\n",
      "[t-SNE] KL divergence after 250 iterations with early exaggeration: 85.888611\n",
      "[t-SNE] KL divergence after 300 iterations: 2.801654\n",
      "[t-SNE] Computing 121 nearest neighbors...\n",
      "[t-SNE] Indexed 10000 samples in 0.007s...\n"
     ]
    },
    {
     "name": "stderr",
     "output_type": "stream",
     "text": [
      "/Users/takashimac/Documents/Python/Meta/env/lib/python3.9/site-packages/sklearn/manifold/_t_sne.py:780: FutureWarning: The default initialization in TSNE will change from 'random' to 'pca' in 1.2.\n",
      "  warnings.warn(\n",
      "/Users/takashimac/Documents/Python/Meta/env/lib/python3.9/site-packages/sklearn/manifold/_t_sne.py:790: FutureWarning: The default learning rate in TSNE will change from 200.0 to 'auto' in 1.2.\n",
      "  warnings.warn(\n"
     ]
    },
    {
     "name": "stdout",
     "output_type": "stream",
     "text": [
      "[t-SNE] Computed neighbors for 10000 samples in 0.448s...\n",
      "[t-SNE] Computed conditional probabilities for sample 1000 / 10000\n",
      "[t-SNE] Computed conditional probabilities for sample 2000 / 10000\n",
      "[t-SNE] Computed conditional probabilities for sample 3000 / 10000\n",
      "[t-SNE] Computed conditional probabilities for sample 4000 / 10000\n",
      "[t-SNE] Computed conditional probabilities for sample 5000 / 10000\n",
      "[t-SNE] Computed conditional probabilities for sample 6000 / 10000\n",
      "[t-SNE] Computed conditional probabilities for sample 7000 / 10000\n",
      "[t-SNE] Computed conditional probabilities for sample 8000 / 10000\n",
      "[t-SNE] Computed conditional probabilities for sample 9000 / 10000\n",
      "[t-SNE] Computed conditional probabilities for sample 10000 / 10000\n",
      "[t-SNE] Mean sigma: 0.000000\n",
      "[t-SNE] KL divergence after 250 iterations with early exaggeration: 59.317566\n",
      "[t-SNE] KL divergence after 300 iterations: 1.717537\n"
     ]
    },
    {
     "data": {
      "text/plain": [
       "<AxesSubplot:xlabel='tsne-2d-one', ylabel='tsne-2d-two'>"
      ]
     },
     "execution_count": 2,
     "metadata": {},
     "output_type": "execute_result"
    },
    {
     "data": {
      "image/png": "[encoded data removed]",
      "text/plain": [
       "<Figure size 432x288 with 1 Axes>"
      ]
     },
     "metadata": {
      "needs_background": "light"
     },
     "output_type": "display_data"
    }
   ],
   "source": [
    "\n",
    "\n",
    "import pandas as pd\n",
    "import numpy as np\n",
    "import matplotlib.pyplot as plt\n",
    "\n",
    "START = 40000\n",
    "END = 50000\n",
    "DIFF = END - START\n",
    "\n",
    "df = pd.read_csv(\"../export/network/20211025_000252_50000_784_inhibit_neighbour_neurons_mnist_network/Output Layer.csv\")\n",
    "plt.imshow(df.to_numpy())\n",
    "df = df.T\n",
    "df = df[START:END]\n",
    "\n",
    "mnist_data = np.load('../import/mnist.npz')\n",
    "x_train = mnist_data[\"x_train\"].reshape(60000, 784)[START:END]\n",
    "y_train = mnist_data[\"y_train\"][START:END]\n",
    "\n",
    "df_mnist = pd.DataFrame(x_train)\n",
    "# df_mnist[\"label\"] = y_train\n",
    "\n",
    "#Import required module\n",
    "from sklearn.cluster import KMeans\n",
    " \n",
    "#Initialize the class object\n",
    "kmeans = KMeans(n_clusters= 10)\n",
    " \n",
    "#predict the labels of clusters.\n",
    "label = kmeans.fit_predict(df)\n",
    "\n",
    "print(label[DIFF-35:DIFF], len(label))\n",
    "\n",
    "print(y_train[DIFF-35:DIFF], len(y_train))\n",
    "print(\"\\n\\n\\n\")\n",
    "\n",
    "df_without_label = df\n",
    "df[\"label\"] = label\n",
    "df\n",
    "df_without_label = df.drop(columns=[\"label\"])\n",
    "\n",
    "# filtered_label2 = df[df[\"label\"] == 2]\n",
    "# filtered_label2\n",
    "\n",
    "df_without_label\n",
    "import seaborn as sns\n",
    "from sklearn.decomposition import PCA\n",
    "from sklearn.manifold import TSNE\n",
    "\n",
    "\n",
    "\n",
    "## PCA\n",
    "\n",
    "# pca = PCA(n_components=3)\n",
    "# pca_result = pca.fit_transform(df_without_label)\n",
    "# df['pca-one'] = pca_result[:,0]\n",
    "# df['pca-two'] = pca_result[:,1]\n",
    "# df['pca-three'] = pca_result[:,2]\n",
    "# print('Explained variation per principal component: {}'.format(pca.explained_variance_ratio_))\n",
    "\n",
    "\n",
    "# plt.figure(figsize=(16,10))\n",
    "# sns.scatterplot(\n",
    "#     x=\"pca-one\", y=\"pca-two\",\n",
    "#     hue=\"label\",\n",
    "#     palette=sns.color_palette(\"hls\", 10),\n",
    "#     data=df,\n",
    "#     legend=\"full\",\n",
    "#     alpha=0.3\n",
    "# )\n",
    "\n",
    "\n",
    "\n",
    "# Plot MNIST t-SNE or PCA\n",
    "\n",
    "tsne = TSNE(n_components=2, verbose=1, perplexity=40, n_iter=300)\n",
    "tsne_results = tsne.fit_transform(df_mnist)\n",
    "\n",
    "df_mnist['tsne-2d-one'] = tsne_results[:,0]\n",
    "df_mnist['tsne-2d-two'] = tsne_results[:,1]\n",
    "\n",
    "df_mnist[\"label\"] = y_train\n",
    "plt.figure(figsize=(16,10))\n",
    "sns.scatterplot(\n",
    "    x=\"tsne-2d-one\", y=\"tsne-2d-two\",\n",
    "    hue=\"label\",\n",
    "    palette=sns.color_palette(\"hls\", 10),\n",
    "    data=df_mnist,\n",
    "    legend=\"full\",\n",
    "    alpha=0.3\n",
    ")\n",
    "\n",
    "## Neuron TSNE\n",
    "tsne = TSNE(n_components=2, verbose=1, perplexity=40, n_iter=300)\n",
    "tsne_results = tsne.fit_transform(df_without_label)\n",
    "\n",
    "df['tsne-2d-one'] = tsne_results[:,0]\n",
    "df['tsne-2d-two'] = tsne_results[:,1]\n",
    "\n",
    "\n",
    "plt.figure(figsize=(16,10))\n",
    "sns.scatterplot(\n",
    "    x=\"tsne-2d-one\", y=\"tsne-2d-two\",\n",
    "    hue=\"label\",\n",
    "    palette=sns.color_palette(\"hls\", 10),\n",
    "    data=df,\n",
    "    legend=\"full\",\n",
    "    alpha=0.3\n",
    ")\n",
    "\n",
    "df[\"mnist_label\"] = y_train\n",
    "plt.figure(figsize=(16,10))\n",
    "sns.scatterplot(\n",
    "    x=\"tsne-2d-one\", y=\"tsne-2d-two\",\n",
    "    hue=\"mnist_label\",\n",
    "    palette=sns.color_palette(\"hls\", 10),\n",
    "    data=df,\n",
    "    legend=\"full\",\n",
    "    alpha=0.3\n",
    ")\n",
    "\n",
    "# pca = PCA(n_components=3)\n",
    "# pca_result = pca.fit_transform(df_mnist)\n",
    "# df_mnist['pca-one'] = pca_result[:,0]\n",
    "# df_mnist['pca-two'] = pca_result[:,1] \n",
    "# df_mnist['pca-three'] = pca_result[:,2]\n",
    "# print('Explained variation per principal component: {}'.format(pca.explained_variance_ratio_))\n",
    "\n",
    "# df_mnist[\"label\"] = y_train\n",
    "# plt.figure(figsize=(16,10))\n",
    "# sns.scatterplot(\n",
    "#     x=\"pca-one\", y=\"pca-two\",\n",
    "#     hue=\"label\",\n",
    "#     palette=sns.color_palette(\"hls\", 10),\n",
    "#     data=df_mnist,\n",
    "#     legend=\"full\",\n",
    "#     alpha=0.3\n",
    "# )\n"
   ]
  },
  {
   "cell_type": "code",
   "execution_count": null,
   "metadata": {},
   "outputs": [],
   "source": []
  },
  {
   "cell_type": "code",
   "execution_count": null,
   "metadata": {},
   "outputs": [],
   "source": []
  },
  {
   "cell_type": "code",
   "execution_count": null,
   "metadata": {},
   "outputs": [],
   "source": []
  }
 ],
 "metadata": {
  "interpreter": {
   "hash": "5a4387b66b719afc8b8906d87e2d4c40ef3903b83df9f1db95723f57123076f0"
  },
  "kernelspec": {
   "display_name": "Python 3.9.0 64-bit ('env': venv)",
   "name": "python3"
  },
  "language_info": {
   "codemirror_mode": {
    "name": "ipython",
    "version": 3
   },
   "file_extension": ".py",
   "mimetype": "text/x-python",
   "name": "python",
   "nbconvert_exporter": "python",
   "pygments_lexer": "ipython3",
   "version": "3.9.0"
  },
  "orig_nbformat": 4
 },
 "nbformat": 4,
 "nbformat_minor": 2
}